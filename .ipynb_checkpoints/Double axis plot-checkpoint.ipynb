{
 "cells": [
  {
   "cell_type": "code",
   "execution_count": null,
   "metadata": {},
   "outputs": [],
   "source": [
    "fig, ax1 = plt.subplots()\n",
    "ax1.set_xlabel('Time(h)')\n",
    "ax1.set_ylabel('Power/Energy (MW)')\n",
    "ax1.plot(Pl,label=\"Demand\") \n",
    "ax1.plot(P_sum,label=\"Generation\") \n",
    "ax1.plot(SOC_f,label=\"SOC\") #,marker = 'o'\n",
    "\n",
    "ax2 = ax1.twinx()\n",
    "ax2.set_ylabel('Charge/Discharge (MW)')\n",
    "ax2.set_ylim(0,100)\n",
    "ax2.plot(Pd_f,label=\"ESS discharge\")\n",
    "ax2.plot(Pc_f,label=\"ESS charge\")\n",
    "fig.legend(loc='right')\n",
    "plt.grid()"
   ]
  }
 ],
 "metadata": {
  "kernelspec": {
   "display_name": "Python 3",
   "language": "python",
   "name": "python3"
  },
  "language_info": {
   "codemirror_mode": {
    "name": "ipython",
    "version": 3
   },
   "file_extension": ".py",
   "mimetype": "text/x-python",
   "name": "python",
   "nbconvert_exporter": "python",
   "pygments_lexer": "ipython3",
   "version": "3.6.5"
  }
 },
 "nbformat": 4,
 "nbformat_minor": 2
}
